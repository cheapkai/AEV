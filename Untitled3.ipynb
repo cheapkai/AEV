{
  "nbformat": 4,
  "nbformat_minor": 0,
  "metadata": {
    "colab": {
      "name": "Untitled3.ipynb",
      "provenance": [],
      "authorship_tag": "ABX9TyPWdphWv72ANAv1UF9Vmj4f",
      "include_colab_link": true
    },
    "kernelspec": {
      "name": "python3",
      "display_name": "Python 3"
    },
    "language_info": {
      "name": "python"
    }
  },
  "cells": [
    {
      "cell_type": "markdown",
      "metadata": {
        "id": "view-in-github",
        "colab_type": "text"
      },
      "source": [
        "<a href=\"https://colab.research.google.com/github/cheapkai/AEV/blob/master/Untitled3.ipynb\" target=\"_parent\"><img src=\"https://colab.research.google.com/assets/colab-badge.svg\" alt=\"Open In Colab\"/></a>"
      ]
    },
    {
      "cell_type": "code",
      "metadata": {
        "colab": {
          "base_uri": "https://localhost:8080/"
        },
        "id": "Ak52g5n7izog",
        "outputId": "c094362a-e065-4ae3-e8ab-acd34ffa54cb"
      },
      "source": [
        "!pip install pydicom\n",
        "!pip install opencv-python\n",
        "!pip install pillow # optional \n",
        "\n",
        "!pip install pandas "
      ],
      "execution_count": null,
      "outputs": [
        {
          "output_type": "stream",
          "text": [
            "Collecting pydicom\n",
            "\u001b[?25l  Downloading https://files.pythonhosted.org/packages/f4/15/df16546bc59bfca390cf072d473fb2c8acd4231636f64356593a63137e55/pydicom-2.1.2-py3-none-any.whl (1.9MB)\n",
            "\r\u001b[K     |▏                               | 10kB 17.0MB/s eta 0:00:01\r\u001b[K     |▍                               | 20kB 24.3MB/s eta 0:00:01\r\u001b[K     |▌                               | 30kB 30.0MB/s eta 0:00:01\r\u001b[K     |▊                               | 40kB 32.0MB/s eta 0:00:01\r\u001b[K     |▉                               | 51kB 32.9MB/s eta 0:00:01\r\u001b[K     |█                               | 61kB 25.3MB/s eta 0:00:01\r\u001b[K     |█▏                              | 71kB 26.5MB/s eta 0:00:01\r\u001b[K     |█▍                              | 81kB 27.9MB/s eta 0:00:01\r\u001b[K     |█▋                              | 92kB 29.5MB/s eta 0:00:01\r\u001b[K     |█▊                              | 102kB 24.8MB/s eta 0:00:01\r\u001b[K     |██                              | 112kB 24.8MB/s eta 0:00:01\r\u001b[K     |██                              | 122kB 24.8MB/s eta 0:00:01\r\u001b[K     |██▎                             | 133kB 24.8MB/s eta 0:00:01\r\u001b[K     |██▍                             | 143kB 24.8MB/s eta 0:00:01\r\u001b[K     |██▋                             | 153kB 24.8MB/s eta 0:00:01\r\u001b[K     |██▉                             | 163kB 24.8MB/s eta 0:00:01\r\u001b[K     |███                             | 174kB 24.8MB/s eta 0:00:01\r\u001b[K     |███▏                            | 184kB 24.8MB/s eta 0:00:01\r\u001b[K     |███▎                            | 194kB 24.8MB/s eta 0:00:01\r\u001b[K     |███▌                            | 204kB 24.8MB/s eta 0:00:01\r\u001b[K     |███▋                            | 215kB 24.8MB/s eta 0:00:01\r\u001b[K     |███▉                            | 225kB 24.8MB/s eta 0:00:01\r\u001b[K     |████                            | 235kB 24.8MB/s eta 0:00:01\r\u001b[K     |████▏                           | 245kB 24.8MB/s eta 0:00:01\r\u001b[K     |████▍                           | 256kB 24.8MB/s eta 0:00:01\r\u001b[K     |████▌                           | 266kB 24.8MB/s eta 0:00:01\r\u001b[K     |████▊                           | 276kB 24.8MB/s eta 0:00:01\r\u001b[K     |████▉                           | 286kB 24.8MB/s eta 0:00:01\r\u001b[K     |█████                           | 296kB 24.8MB/s eta 0:00:01\r\u001b[K     |█████▎                          | 307kB 24.8MB/s eta 0:00:01\r\u001b[K     |█████▍                          | 317kB 24.8MB/s eta 0:00:01\r\u001b[K     |█████▋                          | 327kB 24.8MB/s eta 0:00:01\r\u001b[K     |█████▊                          | 337kB 24.8MB/s eta 0:00:01\r\u001b[K     |██████                          | 348kB 24.8MB/s eta 0:00:01\r\u001b[K     |██████                          | 358kB 24.8MB/s eta 0:00:01\r\u001b[K     |██████▎                         | 368kB 24.8MB/s eta 0:00:01\r\u001b[K     |██████▌                         | 378kB 24.8MB/s eta 0:00:01\r\u001b[K     |██████▋                         | 389kB 24.8MB/s eta 0:00:01\r\u001b[K     |██████▉                         | 399kB 24.8MB/s eta 0:00:01\r\u001b[K     |███████                         | 409kB 24.8MB/s eta 0:00:01\r\u001b[K     |███████▏                        | 419kB 24.8MB/s eta 0:00:01\r\u001b[K     |███████▎                        | 430kB 24.8MB/s eta 0:00:01\r\u001b[K     |███████▌                        | 440kB 24.8MB/s eta 0:00:01\r\u001b[K     |███████▊                        | 450kB 24.8MB/s eta 0:00:01\r\u001b[K     |███████▉                        | 460kB 24.8MB/s eta 0:00:01\r\u001b[K     |████████                        | 471kB 24.8MB/s eta 0:00:01\r\u001b[K     |████████▏                       | 481kB 24.8MB/s eta 0:00:01\r\u001b[K     |████████▍                       | 491kB 24.8MB/s eta 0:00:01\r\u001b[K     |████████▌                       | 501kB 24.8MB/s eta 0:00:01\r\u001b[K     |████████▊                       | 512kB 24.8MB/s eta 0:00:01\r\u001b[K     |█████████                       | 522kB 24.8MB/s eta 0:00:01\r\u001b[K     |█████████                       | 532kB 24.8MB/s eta 0:00:01\r\u001b[K     |█████████▎                      | 542kB 24.8MB/s eta 0:00:01\r\u001b[K     |█████████▍                      | 552kB 24.8MB/s eta 0:00:01\r\u001b[K     |█████████▋                      | 563kB 24.8MB/s eta 0:00:01\r\u001b[K     |█████████▊                      | 573kB 24.8MB/s eta 0:00:01\r\u001b[K     |██████████                      | 583kB 24.8MB/s eta 0:00:01\r\u001b[K     |██████████▏                     | 593kB 24.8MB/s eta 0:00:01\r\u001b[K     |██████████▎                     | 604kB 24.8MB/s eta 0:00:01\r\u001b[K     |██████████▌                     | 614kB 24.8MB/s eta 0:00:01\r\u001b[K     |██████████▋                     | 624kB 24.8MB/s eta 0:00:01\r\u001b[K     |██████████▉                     | 634kB 24.8MB/s eta 0:00:01\r\u001b[K     |███████████                     | 645kB 24.8MB/s eta 0:00:01\r\u001b[K     |███████████▏                    | 655kB 24.8MB/s eta 0:00:01\r\u001b[K     |███████████▍                    | 665kB 24.8MB/s eta 0:00:01\r\u001b[K     |███████████▌                    | 675kB 24.8MB/s eta 0:00:01\r\u001b[K     |███████████▊                    | 686kB 24.8MB/s eta 0:00:01\r\u001b[K     |███████████▉                    | 696kB 24.8MB/s eta 0:00:01\r\u001b[K     |████████████                    | 706kB 24.8MB/s eta 0:00:01\r\u001b[K     |████████████▏                   | 716kB 24.8MB/s eta 0:00:01\r\u001b[K     |████████████▍                   | 727kB 24.8MB/s eta 0:00:01\r\u001b[K     |████████████▋                   | 737kB 24.8MB/s eta 0:00:01\r\u001b[K     |████████████▊                   | 747kB 24.8MB/s eta 0:00:01\r\u001b[K     |█████████████                   | 757kB 24.8MB/s eta 0:00:01\r\u001b[K     |█████████████                   | 768kB 24.8MB/s eta 0:00:01\r\u001b[K     |█████████████▎                  | 778kB 24.8MB/s eta 0:00:01\r\u001b[K     |█████████████▍                  | 788kB 24.8MB/s eta 0:00:01\r\u001b[K     |█████████████▋                  | 798kB 24.8MB/s eta 0:00:01\r\u001b[K     |█████████████▉                  | 808kB 24.8MB/s eta 0:00:01\r\u001b[K     |██████████████                  | 819kB 24.8MB/s eta 0:00:01\r\u001b[K     |██████████████▏                 | 829kB 24.8MB/s eta 0:00:01\r\u001b[K     |██████████████▎                 | 839kB 24.8MB/s eta 0:00:01\r\u001b[K     |██████████████▌                 | 849kB 24.8MB/s eta 0:00:01\r\u001b[K     |██████████████▋                 | 860kB 24.8MB/s eta 0:00:01\r\u001b[K     |██████████████▉                 | 870kB 24.8MB/s eta 0:00:01\r\u001b[K     |███████████████                 | 880kB 24.8MB/s eta 0:00:01\r\u001b[K     |███████████████▏                | 890kB 24.8MB/s eta 0:00:01\r\u001b[K     |███████████████▍                | 901kB 24.8MB/s eta 0:00:01\r\u001b[K     |███████████████▌                | 911kB 24.8MB/s eta 0:00:01\r\u001b[K     |███████████████▊                | 921kB 24.8MB/s eta 0:00:01\r\u001b[K     |███████████████▉                | 931kB 24.8MB/s eta 0:00:01\r\u001b[K     |████████████████                | 942kB 24.8MB/s eta 0:00:01\r\u001b[K     |████████████████▎               | 952kB 24.8MB/s eta 0:00:01\r\u001b[K     |████████████████▍               | 962kB 24.8MB/s eta 0:00:01\r\u001b[K     |████████████████▋               | 972kB 24.8MB/s eta 0:00:01\r\u001b[K     |████████████████▊               | 983kB 24.8MB/s eta 0:00:01\r\u001b[K     |█████████████████               | 993kB 24.8MB/s eta 0:00:01\r\u001b[K     |█████████████████               | 1.0MB 24.8MB/s eta 0:00:01\r\u001b[K     |█████████████████▎              | 1.0MB 24.8MB/s eta 0:00:01\r\u001b[K     |█████████████████▌              | 1.0MB 24.8MB/s eta 0:00:01\r\u001b[K     |█████████████████▋              | 1.0MB 24.8MB/s eta 0:00:01\r\u001b[K     |█████████████████▉              | 1.0MB 24.8MB/s eta 0:00:01\r\u001b[K     |██████████████████              | 1.1MB 24.8MB/s eta 0:00:01\r\u001b[K     |██████████████████▏             | 1.1MB 24.8MB/s eta 0:00:01\r\u001b[K     |██████████████████▎             | 1.1MB 24.8MB/s eta 0:00:01\r\u001b[K     |██████████████████▌             | 1.1MB 24.8MB/s eta 0:00:01\r\u001b[K     |██████████████████▊             | 1.1MB 24.8MB/s eta 0:00:01\r\u001b[K     |██████████████████▉             | 1.1MB 24.8MB/s eta 0:00:01\r\u001b[K     |███████████████████             | 1.1MB 24.8MB/s eta 0:00:01\r\u001b[K     |███████████████████▏            | 1.1MB 24.8MB/s eta 0:00:01\r\u001b[K     |███████████████████▍            | 1.1MB 24.8MB/s eta 0:00:01\r\u001b[K     |███████████████████▌            | 1.1MB 24.8MB/s eta 0:00:01\r\u001b[K     |███████████████████▊            | 1.2MB 24.8MB/s eta 0:00:01\r\u001b[K     |████████████████████            | 1.2MB 24.8MB/s eta 0:00:01\r\u001b[K     |████████████████████            | 1.2MB 24.8MB/s eta 0:00:01\r\u001b[K     |████████████████████▎           | 1.2MB 24.8MB/s eta 0:00:01\r\u001b[K     |████████████████████▍           | 1.2MB 24.8MB/s eta 0:00:01\r\u001b[K     |████████████████████▋           | 1.2MB 24.8MB/s eta 0:00:01\r\u001b[K     |████████████████████▊           | 1.2MB 24.8MB/s eta 0:00:01\r\u001b[K     |█████████████████████           | 1.2MB 24.8MB/s eta 0:00:01\r\u001b[K     |█████████████████████▏          | 1.2MB 24.8MB/s eta 0:00:01\r\u001b[K     |█████████████████████▎          | 1.2MB 24.8MB/s eta 0:00:01\r\u001b[K     |█████████████████████▌          | 1.3MB 24.8MB/s eta 0:00:01\r\u001b[K     |█████████████████████▋          | 1.3MB 24.8MB/s eta 0:00:01\r\u001b[K     |█████████████████████▉          | 1.3MB 24.8MB/s eta 0:00:01\r\u001b[K     |██████████████████████          | 1.3MB 24.8MB/s eta 0:00:01\r\u001b[K     |██████████████████████▏         | 1.3MB 24.8MB/s eta 0:00:01\r\u001b[K     |██████████████████████▍         | 1.3MB 24.8MB/s eta 0:00:01\r\u001b[K     |██████████████████████▌         | 1.3MB 24.8MB/s eta 0:00:01\r\u001b[K     |██████████████████████▊         | 1.3MB 24.8MB/s eta 0:00:01\r\u001b[K     |██████████████████████▉         | 1.3MB 24.8MB/s eta 0:00:01\r\u001b[K     |███████████████████████         | 1.4MB 24.8MB/s eta 0:00:01\r\u001b[K     |███████████████████████▏        | 1.4MB 24.8MB/s eta 0:00:01\r\u001b[K     |███████████████████████▍        | 1.4MB 24.8MB/s eta 0:00:01\r\u001b[K     |███████████████████████▋        | 1.4MB 24.8MB/s eta 0:00:01\r\u001b[K     |███████████████████████▊        | 1.4MB 24.8MB/s eta 0:00:01\r\u001b[K     |████████████████████████        | 1.4MB 24.8MB/s eta 0:00:01\r\u001b[K     |████████████████████████        | 1.4MB 24.8MB/s eta 0:00:01\r\u001b[K     |████████████████████████▎       | 1.4MB 24.8MB/s eta 0:00:01\r\u001b[K     |████████████████████████▍       | 1.4MB 24.8MB/s eta 0:00:01\r\u001b[K     |████████████████████████▋       | 1.4MB 24.8MB/s eta 0:00:01\r\u001b[K     |████████████████████████▉       | 1.5MB 24.8MB/s eta 0:00:01\r\u001b[K     |█████████████████████████       | 1.5MB 24.8MB/s eta 0:00:01\r\u001b[K     |█████████████████████████▏      | 1.5MB 24.8MB/s eta 0:00:01\r\u001b[K     |█████████████████████████▎      | 1.5MB 24.8MB/s eta 0:00:01\r\u001b[K     |█████████████████████████▌      | 1.5MB 24.8MB/s eta 0:00:01\r\u001b[K     |█████████████████████████▋      | 1.5MB 24.8MB/s eta 0:00:01\r\u001b[K     |█████████████████████████▉      | 1.5MB 24.8MB/s eta 0:00:01\r\u001b[K     |██████████████████████████      | 1.5MB 24.8MB/s eta 0:00:01\r\u001b[K     |██████████████████████████▏     | 1.5MB 24.8MB/s eta 0:00:01\r\u001b[K     |██████████████████████████▍     | 1.5MB 24.8MB/s eta 0:00:01\r\u001b[K     |██████████████████████████▌     | 1.6MB 24.8MB/s eta 0:00:01\r\u001b[K     |██████████████████████████▊     | 1.6MB 24.8MB/s eta 0:00:01\r\u001b[K     |██████████████████████████▉     | 1.6MB 24.8MB/s eta 0:00:01\r\u001b[K     |███████████████████████████     | 1.6MB 24.8MB/s eta 0:00:01\r\u001b[K     |███████████████████████████▎    | 1.6MB 24.8MB/s eta 0:00:01\r\u001b[K     |███████████████████████████▍    | 1.6MB 24.8MB/s eta 0:00:01\r\u001b[K     |███████████████████████████▋    | 1.6MB 24.8MB/s eta 0:00:01\r\u001b[K     |███████████████████████████▊    | 1.6MB 24.8MB/s eta 0:00:01\r\u001b[K     |████████████████████████████    | 1.6MB 24.8MB/s eta 0:00:01\r\u001b[K     |████████████████████████████    | 1.6MB 24.8MB/s eta 0:00:01\r\u001b[K     |████████████████████████████▎   | 1.7MB 24.8MB/s eta 0:00:01\r\u001b[K     |████████████████████████████▌   | 1.7MB 24.8MB/s eta 0:00:01\r\u001b[K     |████████████████████████████▋   | 1.7MB 24.8MB/s eta 0:00:01\r\u001b[K     |████████████████████████████▉   | 1.7MB 24.8MB/s eta 0:00:01\r\u001b[K     |█████████████████████████████   | 1.7MB 24.8MB/s eta 0:00:01\r\u001b[K     |█████████████████████████████▏  | 1.7MB 24.8MB/s eta 0:00:01\r\u001b[K     |█████████████████████████████▎  | 1.7MB 24.8MB/s eta 0:00:01\r\u001b[K     |█████████████████████████████▌  | 1.7MB 24.8MB/s eta 0:00:01\r\u001b[K     |█████████████████████████████▊  | 1.7MB 24.8MB/s eta 0:00:01\r\u001b[K     |█████████████████████████████▉  | 1.8MB 24.8MB/s eta 0:00:01\r\u001b[K     |██████████████████████████████  | 1.8MB 24.8MB/s eta 0:00:01\r\u001b[K     |██████████████████████████████▏ | 1.8MB 24.8MB/s eta 0:00:01\r\u001b[K     |██████████████████████████████▍ | 1.8MB 24.8MB/s eta 0:00:01\r\u001b[K     |██████████████████████████████▌ | 1.8MB 24.8MB/s eta 0:00:01\r\u001b[K     |██████████████████████████████▊ | 1.8MB 24.8MB/s eta 0:00:01\r\u001b[K     |███████████████████████████████ | 1.8MB 24.8MB/s eta 0:00:01\r\u001b[K     |███████████████████████████████ | 1.8MB 24.8MB/s eta 0:00:01\r\u001b[K     |███████████████████████████████▎| 1.8MB 24.8MB/s eta 0:00:01\r\u001b[K     |███████████████████████████████▍| 1.8MB 24.8MB/s eta 0:00:01\r\u001b[K     |███████████████████████████████▋| 1.9MB 24.8MB/s eta 0:00:01\r\u001b[K     |███████████████████████████████▊| 1.9MB 24.8MB/s eta 0:00:01\r\u001b[K     |████████████████████████████████| 1.9MB 24.8MB/s eta 0:00:01\r\u001b[K     |████████████████████████████████| 1.9MB 24.8MB/s \n",
            "\u001b[?25hInstalling collected packages: pydicom\n",
            "Successfully installed pydicom-2.1.2\n",
            "Requirement already satisfied: opencv-python in /usr/local/lib/python3.7/dist-packages (4.1.2.30)\n",
            "Requirement already satisfied: numpy>=1.14.5 in /usr/local/lib/python3.7/dist-packages (from opencv-python) (1.19.5)\n",
            "Requirement already satisfied: pillow in /usr/local/lib/python3.7/dist-packages (7.1.2)\n",
            "Requirement already satisfied: pandas in /usr/local/lib/python3.7/dist-packages (1.1.5)\n",
            "Requirement already satisfied: pytz>=2017.2 in /usr/local/lib/python3.7/dist-packages (from pandas) (2018.9)\n",
            "Requirement already satisfied: python-dateutil>=2.7.3 in /usr/local/lib/python3.7/dist-packages (from pandas) (2.8.1)\n",
            "Requirement already satisfied: numpy>=1.15.4 in /usr/local/lib/python3.7/dist-packages (from pandas) (1.19.5)\n",
            "Requirement already satisfied: six>=1.5 in /usr/local/lib/python3.7/dist-packages (from python-dateutil>=2.7.3->pandas) (1.15.0)\n"
          ],
          "name": "stdout"
        }
      ]
    },
    {
      "cell_type": "code",
      "metadata": {
        "id": "OJv1M-OrjP9V"
      },
      "source": [
        "import pydicom as dicom\n",
        "import matplotlib.pyplot as plt\n",
        "import os\n",
        "import cv2\n",
        "import PIL # optional\n",
        "import pandas as pd\n",
        "import csv\n"
      ],
      "execution_count": null,
      "outputs": []
    },
    {
      "cell_type": "code",
      "metadata": {
        "id": "yNUc8rw1jXVJ"
      },
      "source": [
        "# make it True if you want in PNG format\n",
        "PNG = False"
      ],
      "execution_count": null,
      "outputs": []
    },
    {
      "cell_type": "code",
      "metadata": {
        "colab": {
          "base_uri": "https://localhost:8080/"
        },
        "id": "L2J0XhX_jjzb",
        "outputId": "a8933c79-6887-4fdd-d7e0-fed26d27a45d"
      },
      "source": [
        "!pwd"
      ],
      "execution_count": null,
      "outputs": [
        {
          "output_type": "stream",
          "text": [
            "/content\n"
          ],
          "name": "stdout"
        }
      ]
    },
    {
      "cell_type": "code",
      "metadata": {
        "id": "Y330AkMckBF6"
      },
      "source": [
        "!mkdir jpegfromdicom"
      ],
      "execution_count": null,
      "outputs": []
    },
    {
      "cell_type": "code",
      "metadata": {
        "id": "C3mPloqokGl0"
      },
      "source": [
        "from google.colab import drive\n",
        "#from google.colab import drive\n",
        "drive.mount('/content/gdrive')"
      ],
      "execution_count": null,
      "outputs": []
    }
  ]
}